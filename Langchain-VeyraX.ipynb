{
 "cells": [
  {
   "cell_type": "code",
   "execution_count": null,
   "id": "745f3fb5-8d29-429a-9e83-f70b9f4a42ec",
   "metadata": {},
   "outputs": [],
   "source": [
    "%pip install langchain >> null\n",
    "%pip install openai >> null\n",
    "%pip install langchain_openai >> null\n",
    "%pip install dotenv >> null"
   ]
  },
  {
   "cell_type": "code",
   "execution_count": 17,
   "id": "51372270-91b4-41d7-8cea-29bc19410095",
   "metadata": {},
   "outputs": [],
   "source": [
    "import os\n",
    "import requests\n",
    "from langchain_core.tools import tool\n",
    "from langchain_openai import ChatOpenAI\n",
    "from dotenv import load_dotenv"
   ]
  },
  {
   "cell_type": "code",
   "execution_count": 18,
   "id": "8a4b64c1-185f-45fe-a94a-ebdb524a4ab8",
   "metadata": {},
   "outputs": [],
   "source": [
    "load_dotenv()\n",
    "# -----------------------------------------------------------------------------\n",
    "# VeyraX API Helper Function\n",
    "# -----------------------------------------------------------------------------\n",
    "# This function is modeled after the call_veyrax_api definition found in the\n",
    "# Quick Start VeyraX notebook (see :contentReference[oaicite:1]{index=1}). It constructs the URL,\n",
    "# sets the required header (with VEYRAX_API_KEY), and makes the HTTP request.\n",
    "VEYRAX_API_KEY = os.environ.get(\"VEYRAX_API_KEY\", \"your_api_key_here\")\n",
    "BASE_URL = os.environ.get(\"VEYRAX_BASE_URL\", \"http://localhost:8000\")\n",
    "openai_api_key = os.environ.get(\"OPENAI_API_KEY\", \"your_api_key_here\")\n",
    "\n",
    "def call_veyrax_api(endpoint: str, method: str = \"POST\", params: dict = None, data: dict = None, json: dict = None) -> dict:\n",
    "    url = f\"{BASE_URL}{endpoint}\"\n",
    "    headers = {\"VEYRAX_API_KEY\": VEYRAX_API_KEY}\n",
    "    try:\n",
    "        response = requests.request(method, url, headers=headers, params=params, data=data, json=json)\n",
    "        response.raise_for_status()  # Raise an error for bad status codes\n",
    "        return response.json()\n",
    "    except requests.RequestException as e:\n",
    "        print(f\"Error calling API: {e}\")\n",
    "        return {\"error\": str(e)}"
   ]
  },
  {
   "cell_type": "code",
   "execution_count": 44,
   "id": "27264297-0a73-4fdc-8827-aea75b9ebd5d",
   "metadata": {},
   "outputs": [],
   "source": [
    "# -----------------------------------------------------------------------------\n",
    "# Define LangChain Tools for VeyraX Calls\n",
    "# -----------------------------------------------------------------------------\n",
    "# Tool 1: Get available VeyraX tools (uses a GET request)\n",
    "@tool\n",
    "def get_veyrax_tools() -> dict:\n",
    "    \"\"\"Fetch available tools from VeyraX.\"\"\"\n",
    "    return call_veyrax_api(\"/get-tools\", method=\"GET\")\n",
    "\n",
    "# Tool 2: Create a Gmail draft via VeyraX\n",
    "@tool\n",
    "def create_gmail_draft(recipient: str, subject: str, body: str) -> dict:\n",
    "    \"\"\"Create a Gmail draft using VeyraX.\"\"\"\n",
    "    payload = {\"draft_args\": {\"recipient\": recipient, \"subject\": subject, \"body\": body}}\n",
    "    return call_veyrax_api(\"/tool-call/gmail/create_draft\", json=payload)\n",
    "\n",
    "# Tool 3: Send a Gmail message via VeyraX (assumes a draft has been created)\n",
    "@tool\n",
    "def send_gmail_message(message_id: str) -> dict:\n",
    "    \"\"\"Send a Gmail message using VeyraX.\"\"\"\n",
    "    return call_veyrax_api(\"/tool-call/gmail/send_message\", json={\"message_id\": message_id})"
   ]
  },
  {
   "cell_type": "code",
   "execution_count": 67,
   "id": "e07e7dca-fb55-4122-b90b-a29eac26a80a",
   "metadata": {},
   "outputs": [],
   "source": [
    "from IPython.display import IFrame"
   ]
  },
  {
   "cell_type": "code",
   "execution_count": 61,
   "id": "12a6200b-0689-4b8c-a040-40bb5f1d57fa",
   "metadata": {},
   "outputs": [],
   "source": [
    "def render_dynamic_components_page(component):\n",
    "    import json\n",
    "    # Serialize the components list (each with keys: name, props, jsx)\n",
    "    components_json = json.dumps(component)\n",
    "    \n",
    "    with open(\"dynamic_components.html\", \"r\", encoding=\"utf-8\") as f:\n",
    "        template = f.read()\n",
    "        \n",
    "    return template.replace(\"{components_json}\", components_json)\n",
    "def render_and_show(component):\n",
    "    html = render_dynamic_components_page(component)\n",
    "    with open(\"component.html\", \"w\") as f:\n",
    "        f.write(html)\n",
    "    return IFrame(src='component.html', width=400, height=200)"
   ]
  },
  {
   "cell_type": "code",
   "execution_count": 62,
   "id": "5aef549b-9593-4f41-95a6-da80b31798f0",
   "metadata": {},
   "outputs": [],
   "source": [
    "# -----------------------------------------------------------------------------\n",
    "# Bind Tools to an LLM and Invoke Them\n",
    "# -----------------------------------------------------------------------------\n",
    "# Initialize the LLM (this example uses ChatOpenAI with 4o-mini)\n",
    "llm = ChatOpenAI(model=\"gpt-4o-mini\", openai_api_key=openai_api_key)\n",
    "\n",
    "# Bind our VeyraX tools so the model can generate calls to them\n",
    "llm_with_tools = llm.bind_tools([get_veyrax_tools, create_gmail_draft, send_gmail_message])"
   ]
  },
  {
   "cell_type": "code",
   "execution_count": 73,
   "id": "c5a8fd6b-dd21-4726-89fa-430a4f6c31f5",
   "metadata": {},
   "outputs": [],
   "source": [
    "# Example: Fetch the list of available VeyraX tools\n",
    "tools_info = get_veyrax_tools.invoke(\"Fetch available tools\")"
   ]
  },
  {
   "cell_type": "code",
   "execution_count": 68,
   "id": "f4219c7f-12dc-4f37-986c-08a03fc34958",
   "metadata": {},
   "outputs": [],
   "source": [
    "chain = llm_with_tools | (lambda x: x.tool_calls[0][\"args\"]) | create_gmail_draft | (lambda x: x.get('component')) | render_and_show"
   ]
  },
  {
   "cell_type": "code",
   "execution_count": 69,
   "id": "0b347970-e33f-45c2-ac84-fecd3b9dd6ed",
   "metadata": {},
   "outputs": [
    {
     "data": {
      "text/html": [
       "\n",
       "        <iframe\n",
       "            width=\"400\"\n",
       "            height=\"200\"\n",
       "            src=\"component.html\"\n",
       "            frameborder=\"0\"\n",
       "            allowfullscreen\n",
       "            \n",
       "        ></iframe>\n",
       "        "
      ],
      "text/plain": [
       "<IPython.lib.display.IFrame at 0x109a94160>"
      ]
     },
     "execution_count": 69,
     "metadata": {},
     "output_type": "execute_result"
    }
   ],
   "source": [
    "chain.invoke(\"Create an email with recipient hello@veyrax.com, subject 'Demo', and body 'Hello World!'\")"
   ]
  },
  {
   "cell_type": "code",
   "execution_count": 83,
   "id": "ce0b14cf-6c18-4f4e-9d18-7ef6991ffc27",
   "metadata": {},
   "outputs": [],
   "source": [
    "user_tools = get_veyrax_tools.invoke(\"What are user tools?\")"
   ]
  }
 ],
 "metadata": {
  "kernelspec": {
   "display_name": "Python (myenv)",
   "language": "python",
   "name": "myenv"
  },
  "language_info": {
   "codemirror_mode": {
    "name": "ipython",
    "version": 3
   },
   "file_extension": ".py",
   "mimetype": "text/x-python",
   "name": "python",
   "nbconvert_exporter": "python",
   "pygments_lexer": "ipython3",
   "version": "3.9.6"
  }
 },
 "nbformat": 4,
 "nbformat_minor": 5
}
