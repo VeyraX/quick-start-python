{
 "cells": [
  {
   "cell_type": "code",
   "execution_count": 2,
   "id": "cd8e128a-d156-42a2-b5b0-e6f1f4f062e2",
   "metadata": {},
   "outputs": [
    {
     "name": "stdout",
     "output_type": "stream",
     "text": [
      "Requirement already satisfied: dotenv in ./jupyter_env/lib/python3.10/site-packages (0.9.9)\n",
      "Requirement already satisfied: python-dotenv in ./jupyter_env/lib/python3.10/site-packages (from dotenv) (1.0.1)\n",
      "\n",
      "\u001b[1m[\u001b[0m\u001b[34;49mnotice\u001b[0m\u001b[1;39;49m]\u001b[0m\u001b[39;49m A new release of pip is available: \u001b[0m\u001b[31;49m23.0.1\u001b[0m\u001b[39;49m -> \u001b[0m\u001b[32;49m25.0.1\u001b[0m\n",
      "\u001b[1m[\u001b[0m\u001b[34;49mnotice\u001b[0m\u001b[1;39;49m]\u001b[0m\u001b[39;49m To update, run: \u001b[0m\u001b[32;49mpip install --upgrade pip\u001b[0m\n",
      "Note: you may need to restart the kernel to use updated packages.\n"
     ]
    }
   ],
   "source": [
    "# install if needed:\n",
    "%pip install dotenv"
   ]
  },
  {
   "cell_type": "code",
   "execution_count": 4,
   "id": "efbf7eac-68f7-4d69-a7da-f3c250c94f8a",
   "metadata": {},
   "outputs": [],
   "source": [
    "import os\n",
    "import requests\n",
    "from pprint import pprint\n",
    "from dotenv import load_dotenv\n",
    "\n",
    "# Load environment variables from a .env file\n",
    "load_dotenv()\n",
    "\n",
    "# Retrieve the VEYRAX_API_KEY from the environment variables\n",
    "api_key = os.getenv(\"VEYRAX_API_KEY\")\n",
    "if not api_key:\n",
    "    raise ValueError(\"The environment variable VEYRAX_API_KEY is not set.\")\n",
    "\n",
    "# Base URL for the veyrax.com API\n",
    "BASE_URL = \"https://veyraxapp.com\""
   ]
  },
  {
   "cell_type": "code",
   "execution_count": 5,
   "id": "f6d48423-0f90-4b3f-a949-fd9e8bbd3802",
   "metadata": {},
   "outputs": [],
   "source": [
    "def call_veyrax_api(endpoint: str, method: str = \"POST\", params: dict = None, data: dict = None, json: dict = None) -> dict:\n",
    "    \"\"\"\n",
    "    Call any endpoint of the veyrax.com API.\n",
    "\n",
    "    Args:\n",
    "        endpoint (str): The API endpoint (path after the base URL, e.g., '/tools').\n",
    "        method (str): HTTP method to use (\"GET\", \"POST\", etc.).\n",
    "        params (dict, optional): Query parameters for the request.\n",
    "        data (dict, optional): Form data for the request.\n",
    "        json (dict, optional): JSON payload for the request.\n",
    "\n",
    "    Returns:\n",
    "        dict: The JSON response from the API.\n",
    "    \"\"\"\n",
    "    url = f\"{BASE_URL}{endpoint}\"\n",
    "    \n",
    "    # Set the header with the VEYRAX_API_KEY\n",
    "    headers = {\n",
    "        \"VEYRAX_API_KEY\": api_key\n",
    "    }\n",
    "    \n",
    "    # Choose the method and make the request\n",
    "    try:\n",
    "        response = requests.request(method, url, headers=headers, params=params, data=data, json=json)\n",
    "        response.raise_for_status()  # Raise an error for bad status codes\n",
    "        return response.json()\n",
    "    except requests.RequestException as e:\n",
    "        print(f\"Error calling API: {e}\")\n",
    "        return {\"error\": str(e)}\n"
   ]
  },
  {
   "cell_type": "code",
   "execution_count": 6,
   "id": "2b32567c-5826-42f9-9c6d-c2b8f2fa5535",
   "metadata": {},
   "outputs": [],
   "source": [
    "# Add your first integration, go to: https://veyrax.com/integrations"
   ]
  },
  {
   "cell_type": "code",
   "execution_count": 7,
   "id": "05e70d92-a1d7-4dc8-ade6-cb83b9db273d",
   "metadata": {},
   "outputs": [],
   "source": [
    "result = call_veyrax_api(\"/get-tools\", method=\"GET\")"
   ]
  },
  {
   "cell_type": "code",
   "execution_count": 8,
   "id": "c3d8ce91-3bf5-43d2-bdcd-4289ca1e5013",
   "metadata": {},
   "outputs": [
    {
     "name": "stdout",
     "output_type": "stream",
     "text": [
      "dict_keys(['notion', 'gmail', 'confluence', 'openweather', 'slack', 'dropbox', 'outlook', 'resend', 'jira', 'google-drive', 'google-calendar', 'perplexity', 'linear'])\n"
     ]
    }
   ],
   "source": [
    "# Your available tools:\n",
    "print(result.get('tools', {}).keys())"
   ]
  },
  {
   "cell_type": "code",
   "execution_count": 9,
   "id": "fd570082-0332-4d99-a9b8-36caae337efa",
   "metadata": {},
   "outputs": [
    {
     "name": "stdout",
     "output_type": "stream",
     "text": [
      "dict_keys(['get_drafts', 'get_message', 'create_draft', 'delete_draft', 'get_messages', 'modify_draft', 'send_message', 'delete_message'])\n"
     ]
    }
   ],
   "source": [
    "# Let's see available methods for Gmail\n",
    "print(result.get('tools', {}).get('gmail', {}).keys())"
   ]
  },
  {
   "cell_type": "code",
   "execution_count": 10,
   "id": "065b0446-defe-40bb-8237-ffbccc898b91",
   "metadata": {},
   "outputs": [
    {
     "name": "stdout",
     "output_type": "stream",
     "text": [
      "{'type': 'function', 'function': {'name': '/gmail/create_draft', 'strict': True, 'parameters': {'type': 'object', '$defs': {'DraftMessage': {'type': 'object', 'title': 'DraftMessage', 'required': ['recipient', 'subject', 'body'], 'properties': {'body': {'type': 'string', 'title': 'Body'}, 'subject': {'type': 'string', 'title': 'Subject'}, 'recipient': {'type': 'string', 'title': 'Recipient'}}, 'additionalProperties': False}}, 'title': 'CreateDraftParams', 'required': ['draft_args'], 'properties': {'draft_args': {'$ref': '#/$defs/DraftMessage'}}, 'additionalProperties': False}, 'description': 'Handle POST /gmail/create_draft'}}\n"
     ]
    }
   ],
   "source": [
    "# Let's see annotation for create_draft\n",
    "print(result.get('tools', {}).get('gmail', {}).get('create_draft', {}))"
   ]
  },
  {
   "cell_type": "code",
   "execution_count": 11,
   "id": "8c0659c6-e87b-4b84-ae58-96648600df56",
   "metadata": {},
   "outputs": [],
   "source": [
    "payload = {\"draft_args\" : {\"recipient\": \"hello@veyrax.com\", \"subject\": \"Thank you for this demo!\", \"body\": \"Hello World!\"}}\n",
    "draft = call_veyrax_api('/tool-call/gmail/create_draft', json=payload)"
   ]
  },
  {
   "cell_type": "code",
   "execution_count": 12,
   "id": "7ab0d4b5-149a-46c2-9f3d-67bacb18ea62",
   "metadata": {},
   "outputs": [
    {
     "data": {
      "text/plain": [
       "{'id': '1955ba245a173f0f',\n",
       " 'thread_id': '1955ba245a173f0f',\n",
       " 'subject': 'Thank you for this demo!',\n",
       " 'snippet': 'Hello World!',\n",
       " 'body': 'Hello World!',\n",
       " 'recipient': 'hello@veyrax.com',\n",
       " 'sender': 'veyraxservice@gmail.com',\n",
       " 'date': '2025-03-03T05:51:56-05:00',\n",
       " 'html_link': 'https://mail.google.com/mail/u/0/#inbox/1955ba245a173f0f',\n",
       " 'labels': ['DRAFT'],\n",
       " 'draft_id': 'r-6855827318153189249'}"
      ]
     },
     "execution_count": 12,
     "metadata": {},
     "output_type": "execute_result"
    }
   ],
   "source": [
    "draft.get('data')"
   ]
  },
  {
   "cell_type": "code",
   "execution_count": 13,
   "id": "84d43cce-66f6-42bf-baf2-d0ef201e9083",
   "metadata": {},
   "outputs": [],
   "source": [
    "component = draft.get('component')"
   ]
  },
  {
   "cell_type": "code",
   "execution_count": 14,
   "id": "93e55309-eb10-4df2-8ded-774bc391a2dd",
   "metadata": {},
   "outputs": [],
   "source": [
    "def render_dynamic_components_page(component):\n",
    "    import json\n",
    "    # Serialize the components list (each with keys: name, props, jsx)\n",
    "    components_json = json.dumps(component)\n",
    "    \n",
    "    with open(\"dynamic_components.html\", \"r\", encoding=\"utf-8\") as f:\n",
    "        template = f.read()\n",
    "        \n",
    "    return template.replace(\"{components_json}\", components_json)"
   ]
  },
  {
   "cell_type": "code",
   "execution_count": 15,
   "id": "efce80ba-39b9-4b50-b43b-fb6918130288",
   "metadata": {},
   "outputs": [],
   "source": [
    "from IPython.display import IFrame"
   ]
  },
  {
   "cell_type": "code",
   "execution_count": 16,
   "id": "62d8acd3-7e50-4fad-9b87-aa26678e22ed",
   "metadata": {},
   "outputs": [],
   "source": [
    "def render_and_show(component):\n",
    "    html = render_dynamic_components_page(component)\n",
    "    with open(\"component.html\", \"w\") as f:\n",
    "        f.write(html)\n",
    "    return IFrame(src='component.html', width=400, height=200)"
   ]
  },
  {
   "cell_type": "code",
   "execution_count": 17,
   "id": "562b3a2d-cd6a-453d-a453-aca859972c6d",
   "metadata": {},
   "outputs": [
    {
     "data": {
      "text/html": [
       "\n",
       "        <iframe\n",
       "            width=\"400\"\n",
       "            height=\"200\"\n",
       "            src=\"component.html\"\n",
       "            frameborder=\"0\"\n",
       "            allowfullscreen\n",
       "            \n",
       "        ></iframe>\n",
       "        "
      ],
      "text/plain": [
       "<IPython.lib.display.IFrame at 0x1033776d0>"
      ]
     },
     "execution_count": 17,
     "metadata": {},
     "output_type": "execute_result"
    }
   ],
   "source": [
    "render_and_show(component)"
   ]
  },
  {
   "cell_type": "code",
   "execution_count": 18,
   "id": "493a7815-318f-4c6d-b44c-460d0a3fd4ea",
   "metadata": {},
   "outputs": [
    {
     "name": "stdout",
     "output_type": "stream",
     "text": [
      "{'type': 'function', 'function': {'name': '/gmail/send_message', 'strict': True, 'parameters': {'type': 'object', 'title': 'SendMessageParams', 'required': ['message_id'], 'properties': {'message_id': {'type': 'string', 'title': 'Message Id'}}, 'additionalProperties': False}, 'description': 'Handle POST /gmail/send_message'}}\n"
     ]
    }
   ],
   "source": [
    "# Let's see annotation for send_message\n",
    "print(result.get('tools', {}).get('gmail', {}).get('send_message', {}))"
   ]
  },
  {
   "cell_type": "code",
   "execution_count": 19,
   "id": "65e266db-fc40-433e-8fcc-b7745e1e755a",
   "metadata": {},
   "outputs": [],
   "source": [
    "send_message = call_veyrax_api('/tool-call/gmail/send_message', json={\"message_id\": draft.get('data', {}).get('id')})"
   ]
  },
  {
   "cell_type": "code",
   "execution_count": 20,
   "id": "f7f31503-d5fc-49a4-9c88-29825fc95d10",
   "metadata": {},
   "outputs": [
    {
     "data": {
      "text/html": [
       "\n",
       "        <iframe\n",
       "            width=\"400\"\n",
       "            height=\"200\"\n",
       "            src=\"component.html\"\n",
       "            frameborder=\"0\"\n",
       "            allowfullscreen\n",
       "            \n",
       "        ></iframe>\n",
       "        "
      ],
      "text/plain": [
       "<IPython.lib.display.IFrame at 0x10374f6a0>"
      ]
     },
     "execution_count": 20,
     "metadata": {},
     "output_type": "execute_result"
    }
   ],
   "source": [
    "# we sent a message:\n",
    "render_and_show(send_message.get('component', {}))"
   ]
  },
  {
   "cell_type": "code",
   "execution_count": null,
   "id": "8b46a7fd-9b81-4851-a8b7-a8923ee014c2",
   "metadata": {},
   "outputs": [],
   "source": []
  }
 ],
 "metadata": {
  "kernelspec": {
   "display_name": "Python 3 (ipykernel)",
   "language": "python",
   "name": "python3"
  },
  "language_info": {
   "codemirror_mode": {
    "name": "ipython",
    "version": 3
   },
   "file_extension": ".py",
   "mimetype": "text/x-python",
   "name": "python",
   "nbconvert_exporter": "python",
   "pygments_lexer": "ipython3",
   "version": "3.10.14"
  }
 },
 "nbformat": 4,
 "nbformat_minor": 5
}
